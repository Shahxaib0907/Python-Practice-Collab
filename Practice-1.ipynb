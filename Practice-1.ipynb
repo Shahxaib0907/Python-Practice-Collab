{
  "nbformat": 4,
  "nbformat_minor": 0,
  "metadata": {
    "accelerator": "TPU",
    "colab": {
      "name": "1",
      "provenance": [],
      "collapsed_sections": [],
      "authorship_tag": "ABX9TyP72/Ri9j1GAr8+T5FAHqLH",
      "include_colab_link": true
    },
    "kernelspec": {
      "display_name": "Python 3",
      "name": "python3"
    },
    "language_info": {
      "name": "python"
    }
  },
  "cells": [
    {
      "cell_type": "markdown",
      "metadata": {
        "id": "view-in-github",
        "colab_type": "text"
      },
      "source": [
        "<a href=\"https://colab.research.google.com/github/Shahxaib0907/Python-Practice-Collab/blob/main/Practice-1.ipynb\" target=\"_parent\"><img src=\"https://colab.research.google.com/assets/colab-badge.svg\" alt=\"Open In Colab\"/></a>"
      ]
    },
    {
      "cell_type": "code",
      "source": [
        "#This is print function and in this print our message\n",
        "\n",
        "\"\"\"Yeah this is comment file in the top of the column\"\"\"\n",
        "print('Hello shahzaib How are you?', end=' ')  #By default end is new line character.\n",
        "\n",
        "print('I am fine what are you doing these days.')"
      ],
      "metadata": {
        "colab": {
          "base_uri": "https://localhost:8080/"
        },
        "id": "K3HrDbKDur4t",
        "outputId": "13e4bd9b-32ea-4bcb-c5c7-1ca1e6eda76e"
      },
      "execution_count": 11,
      "outputs": [
        {
          "output_type": "stream",
          "name": "stdout",
          "text": [
            "Hello shahzaib How are you? I am fine what are you doing these days.\n"
          ]
        }
      ]
    },
    {
      "cell_type": "code",
      "source": [
        "#\\n for new line  \n",
        "#\\t for new tab line\n",
        "\n",
        "print(\"Hello Shahzaib \\n What are you doing  \\t \\t5\")"
      ],
      "metadata": {
        "colab": {
          "base_uri": "https://localhost:8080/"
        },
        "id": "JY95dS5H8ln-",
        "outputId": "b30fe34b-4f4e-40e1-da59-139ef94c4151"
      },
      "execution_count": 15,
      "outputs": [
        {
          "output_type": "stream",
          "name": "stdout",
          "text": [
            "Hello Shahzaib \n",
            " What are you doing  \t \t5\n"
          ]
        }
      ]
    }
  ]
}