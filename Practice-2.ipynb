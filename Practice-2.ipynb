{
  "nbformat": 4,
  "nbformat_minor": 0,
  "metadata": {
    "accelerator": "TPU",
    "colab": {
      "name": "2",
      "provenance": [],
      "collapsed_sections": [],
      "authorship_tag": "ABX9TyO4eoFvM7G9dYrfiyhgQQ41",
      "include_colab_link": true
    },
    "kernelspec": {
      "display_name": "Python 3",
      "name": "python3"
    },
    "language_info": {
      "name": "python"
    }
  },
  "cells": [
    {
      "cell_type": "markdown",
      "metadata": {
        "id": "view-in-github",
        "colab_type": "text"
      },
      "source": [
        "<a href=\"https://colab.research.google.com/github/Shahxaib0907/Python-Practice-Collab/blob/main/Practice-2.ipynb\" target=\"_parent\"><img src=\"https://colab.research.google.com/assets/colab-badge.svg\" alt=\"Open In Colab\"/></a>"
      ]
    },
    {
      "cell_type": "code",
      "source": [
        "# Variables and Datatypes\n",
        "\n",
        "x = 'Hello Shahzaib'\n",
        "print(x)\n",
        "\n",
        "y = 'Shahzaib'\n",
        "z = 12\n",
        "print(y, type(y)); print(z, type(z))\n",
        "\n",
        "\n"
      ],
      "metadata": {
        "colab": {
          "base_uri": "https://localhost:8080/"
        },
        "id": "JIxB-aApclFy",
        "outputId": "9996b370-d613-4388-861d-1f3ed2740a8e"
      },
      "execution_count": null,
      "outputs": [
        {
          "output_type": "stream",
          "name": "stdout",
          "text": [
            "Hello Shahzaib\n",
            "Shahzaib <class 'str'>\n",
            "12 <class 'int'>\n"
          ]
        }
      ]
    },
    {
      "cell_type": "code",
      "source": [
        "#concatenation of two integer strings\n",
        "\n",
        "a = '12'\n",
        "b = '23'\n",
        "print(a + b)\n",
        "\n",
        "print(int(a) + int(b))\n",
        "\n",
        "x = 23\n",
        "y = 45\n",
        "\n",
        "print(str(x) + str(y))"
      ],
      "metadata": {
        "colab": {
          "base_uri": "https://localhost:8080/"
        },
        "id": "R6WlZHmzlFs4",
        "outputId": "e1a31765-faad-4b68-8458-6569208c8eb7"
      },
      "execution_count": null,
      "outputs": [
        {
          "output_type": "stream",
          "name": "stdout",
          "text": [
            "1223\n",
            "35\n",
            "2345\n"
          ]
        }
      ]
    },
    {
      "cell_type": "code",
      "source": [
        "# Take a value from user input \n",
        "\n",
        "print(\"Enter your first name: \")\n",
        "your_name = input()\n",
        "print(\"Your name is: \", your_name + str(5))"
      ],
      "metadata": {
        "colab": {
          "base_uri": "https://localhost:8080/"
        },
        "id": "iq0f9cdnliJ-",
        "outputId": "cf0b5446-e4f0-4652-95dc-01a2bf772870"
      },
      "execution_count": null,
      "outputs": [
        {
          "output_type": "stream",
          "name": "stdout",
          "text": [
            "Enter your first name: \n",
            "zaibi\n",
            "Your name is:  zaibi5\n"
          ]
        }
      ]
    },
    {
      "cell_type": "code",
      "source": [
        "# Quiz for first lab\n",
        "\n",
        "a = int(input('Enter the first number:'))\n",
        "b = int(input('Enter the second number:'))\n",
        "sum = a + b\n",
        "print(sum)"
      ],
      "metadata": {
        "colab": {
          "base_uri": "https://localhost:8080/"
        },
        "id": "y8gY_D4dpJL8",
        "outputId": "4264d6ad-ad9c-4b39-8e57-66f56f643c7c"
      },
      "execution_count": 4,
      "outputs": [
        {
          "output_type": "stream",
          "name": "stdout",
          "text": [
            "Enter the first number:12\n",
            "Enter the second number:10\n",
            "22\n"
          ]
        }
      ]
    }
  ]
}