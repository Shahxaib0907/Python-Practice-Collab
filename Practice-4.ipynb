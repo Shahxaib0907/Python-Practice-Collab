{
  "nbformat": 4,
  "nbformat_minor": 0,
  "metadata": {
    "accelerator": "TPU",
    "colab": {
      "name": "4",
      "provenance": [],
      "collapsed_sections": [],
      "authorship_tag": "ABX9TyOBUTnEVzerQXDMWIrK53uU",
      "include_colab_link": true
    },
    "kernelspec": {
      "display_name": "Python 3",
      "name": "python3"
    },
    "language_info": {
      "name": "python"
    }
  },
  "cells": [
    {
      "cell_type": "markdown",
      "metadata": {
        "id": "view-in-github",
        "colab_type": "text"
      },
      "source": [
        "<a href=\"https://colab.research.google.com/github/Shahxaib0907/Python-Practice-Collab/blob/main/Practice-4.ipynb\" target=\"_parent\"><img src=\"https://colab.research.google.com/assets/colab-badge.svg\" alt=\"Open In Colab\"/></a>"
      ]
    },
    {
      "cell_type": "code",
      "source": [
        "#Lists in python\n",
        "\n",
        "colors = ['red', 'blue', 'green', 'black', 'orange']\n",
        "print(colors)\n",
        "print(colors[::2]) # Last 2 means they can make a space of 1 number in list\n",
        "\n",
        "#colors.sort()\n",
        "#print(sorted(colors))\n",
        "\n",
        "colors.sort()\n",
        "print(colors)\n",
        "colors.sort(reverse=True)\n",
        "print(colors)"
      ],
      "metadata": {
        "id": "PaE5R2725t0u",
        "colab": {
          "base_uri": "https://localhost:8080/"
        },
        "outputId": "2c9ad096-40ba-408e-e0bf-a3af5de92db2"
      },
      "execution_count": null,
      "outputs": [
        {
          "output_type": "stream",
          "name": "stdout",
          "text": [
            "['red', 'blue', 'green', 'black', 'orange']\n",
            "['red', 'green', 'orange']\n",
            "['black', 'blue', 'green', 'orange', 'red']\n",
            "['red', 'orange', 'green', 'blue', 'black']\n"
          ]
        }
      ]
    },
    {
      "cell_type": "code",
      "source": [
        "# Lists functions\n",
        "\n",
        "colors.append('pink'); colors.insert(3, 'white')\n",
        "print(colors)"
      ],
      "metadata": {
        "id": "DckHpiWoQzpX",
        "colab": {
          "base_uri": "https://localhost:8080/"
        },
        "outputId": "734c6fbd-9ab7-4e5b-d09d-1bfae16dfa4f"
      },
      "execution_count": 24,
      "outputs": [
        {
          "output_type": "stream",
          "name": "stdout",
          "text": [
            "['red', 'orange', 'green', 'white', 'blue', 'white', 'white', 'white', 'white', 'white', 'white', 'white', 'black', 'pink', 'pink', 'pink', 'pink', 'pink', 'pink', 'pink']\n"
          ]
        }
      ]
    },
    {
      "cell_type": "code",
      "source": [
        "#Numbers swapping \n",
        "\n",
        "a = 2\n",
        "b = 3\n",
        "#a, b = b, a    This is a simple method.\n",
        "temp = a\n",
        "a = b\n",
        "b = temp\n",
        "print('The value of a is:', a ,'And the value of b is:', b)"
      ],
      "metadata": {
        "colab": {
          "base_uri": "https://localhost:8080/"
        },
        "id": "k-yjtDDETP2j",
        "outputId": "5f459067-5e7c-46e1-eead-28b47c95ef67"
      },
      "execution_count": 30,
      "outputs": [
        {
          "output_type": "stream",
          "name": "stdout",
          "text": [
            "The value of a is: 3 And the value of b is: 2\n"
          ]
        }
      ]
    }
  ]
}