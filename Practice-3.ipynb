{
  "nbformat": 4,
  "nbformat_minor": 0,
  "metadata": {
    "accelerator": "TPU",
    "colab": {
      "name": "3",
      "provenance": [],
      "collapsed_sections": [],
      "authorship_tag": "ABX9TyOhD/VaKXzSj+eB1QVtQZGi",
      "include_colab_link": true
    },
    "kernelspec": {
      "display_name": "Python 3",
      "name": "python3"
    },
    "language_info": {
      "name": "python"
    }
  },
  "cells": [
    {
      "cell_type": "markdown",
      "metadata": {
        "id": "view-in-github",
        "colab_type": "text"
      },
      "source": [
        "<a href=\"https://colab.research.google.com/github/Shahxaib0907/Python-Practice-Collab/blob/main/Practice-3.ipynb\" target=\"_parent\"><img src=\"https://colab.research.google.com/assets/colab-badge.svg\" alt=\"Open In Colab\"/></a>"
      ]
    },
    {
      "cell_type": "code",
      "source": [
        "#Strings in python\n",
        "\n",
        "name = \"My name is Shahzaib\"\n",
        "print(len(name))\n",
        "\n",
        "print(name[0:100])\n",
        "\n",
        "print(name[11:19:2])"
      ],
      "metadata": {
        "colab": {
          "base_uri": "https://localhost:8080/"
        },
        "id": "0Wb0AWzlyHZe",
        "outputId": "00d414ea-fa68-4492-e9f2-04bc68f823e9"
      },
      "execution_count": 20,
      "outputs": [
        {
          "output_type": "stream",
          "name": "stdout",
          "text": [
            "19\n",
            "My name is Shahzaib\n",
            "Sazi\n"
          ]
        }
      ]
    },
    {
      "cell_type": "code",
      "source": [
        "# Some string functions\n",
        "\n",
        "name = \"My name is Shahzaib\"\n",
        "print(name.count('a')) #total numbers of alphabets in our paragraph \n",
        "print(name.isalnum())\n",
        "print(name.startswith('My')); print(name.endswith('b'))\n",
        "\n",
        "print(name.find('Shahzaib'))\n",
        "print(name.replace('name', 'Name'))"
      ],
      "metadata": {
        "colab": {
          "base_uri": "https://localhost:8080/"
        },
        "id": "fU5LiGt82Mj-",
        "outputId": "bb1d36ba-e596-4ab6-f59b-8150b4c994db"
      },
      "execution_count": 27,
      "outputs": [
        {
          "output_type": "stream",
          "name": "stdout",
          "text": [
            "3\n",
            "False\n",
            "True\n",
            "True\n",
            "11\n",
            "My Name is Shahzaib\n"
          ]
        }
      ]
    }
  ]
}